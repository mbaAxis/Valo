{
 "cells": [
  {
   "cell_type": "code",
   "execution_count": 5,
   "id": "9b602408",
   "metadata": {},
   "outputs": [
    {
     "name": "stderr",
     "output_type": "stream",
     "text": [
      "C:\\Users\\n.kouakou\\AppData\\Local\\Temp\\ipykernel_73896\\755850282.py:20: DeprecationWarning: Conversion of an array with ndim > 0 to a scalar is deprecated, and will error in future. Ensure you extract a single element from your array before performing this operation. (Deprecated NumPy 1.25.)\n",
      "  discount_factors[t] = np.exp(-result.x * dt) * discount_factors[t-1]\n"
     ]
    },
    {
     "name": "stdout",
     "output_type": "stream",
     "text": [
      "CDS Price: 7876.376437\n",
      "Implied Hazard Rate: nan%\n"
     ]
    },
    {
     "name": "stderr",
     "output_type": "stream",
     "text": [
      "C:\\Users\\n.kouakou\\AppData\\Local\\Temp\\ipykernel_73896\\755850282.py:29: RuntimeWarning: invalid value encountered in log\n",
      "  hazard_rate = -np.log(1 - protection_leg_pv / premium_leg_pv) / maturity\n"
     ]
    }
   ],
   "source": [
    "import numpy as np\n",
    "from scipy.optimize import minimize\n",
    "\n",
    "def isda_discount_factor(rates, time_points, mean_reversion, volatility):\n",
    "    # Calculate the discount factor using the Hull-White model\n",
    "    discount_factors = np.zeros_like(rates)\n",
    "    discount_factors[0]=1\n",
    "\n",
    "    for t in range(1, len(time_points)):\n",
    "        dt = time_points[t] - time_points[t-1]\n",
    "        sigma_dt = volatility * np.sqrt(dt)\n",
    "        a = mean_reversion\n",
    "\n",
    "        # Define the function for optimization\n",
    "        objective_function = lambda x: (x * (1 - np.exp(-a * dt)) / a - np.exp(-x * dt) * discount_factors[t-1]) ** 2\n",
    "\n",
    "        # Use optimization to find the optimal rate for each tenor\n",
    "        result = minimize(objective_function, rates[t-1], bounds=[(0, 1)])\n",
    "\n",
    "        discount_factors[t] = np.exp(-result.x * dt) * discount_factors[t-1]\n",
    "\n",
    "    return discount_factors\n",
    "\n",
    "def isda_hazard_rate(cds_spread, discount_factors, recovery_rate, notional, maturity):\n",
    "    # Calculate the implied hazard rate using the CDS spread and discount factors\n",
    "    protection_leg_pv = notional * cds_spread * (1 - recovery_rate) * (1 - discount_factors[-1])\n",
    "    premium_leg_pv = notional * (1 - recovery_rate) * discount_factors[-1]\n",
    "\n",
    "    hazard_rate = -np.log(1 - protection_leg_pv / premium_leg_pv) / maturity\n",
    "\n",
    "    return hazard_rate\n",
    "\n",
    "def isda_cds_pricing(notional, cds_spread, maturity, recovery_rate, market_rates, time_points, mean_reversion, volatility):\n",
    "    # Perform curve bootstrapping to get discount factors\n",
    "    discount_factors = isda_discount_factor(market_rates, time_points, mean_reversion, volatility)\n",
    "\n",
    "    # Calculate the implied hazard rate using CDS spread and discount factors\n",
    "    hazard_rate = isda_hazard_rate(cds_spread, discount_factors, recovery_rate, notional, maturity)\n",
    "\n",
    "    # Calculate present value of protection leg (premiums)\n",
    "    protection_leg_pv = notional * cds_spread * (1 - recovery_rate) * (1 - discount_factors[-1])\n",
    "\n",
    "    # Calculate present value of premium leg (default payments)\n",
    "    premium_leg_pv = notional * (1 - recovery_rate) * discount_factors[-1]\n",
    "\n",
    "    # Calculate CDS price\n",
    "    cds_price = protection_leg_pv - premium_leg_pv\n",
    "\n",
    "    return cds_price, discount_factors, hazard_rate\n",
    "\n",
    "# Example market rates for curve bootstrapping\n",
    "market_rates = np.array([0.02, 0.025, 0.03, 0.035, 0.04]*252)\n",
    "\n",
    "# Example parameters\n",
    "notional = 1000000  # Notional amount\n",
    "cds_spread = 0.02   # CDS spread (annualized)\n",
    "maturity = 5         # Maturity in years\n",
    "recovery_rate = 0.4  # Recovery rate in case of default\n",
    "mean_reversion = 0.1\n",
    "volatility = 0.01\n",
    "\n",
    "# Time parameters\n",
    "num_time_steps = 252 * maturity  # assuming daily time steps\n",
    "time_points = np.linspace(0, maturity, num_time_steps)\n",
    "\n",
    "# Calculate CDS price, discount factor, and hazard rate\n",
    "cds_price, discount_factors, hazard_rate = isda_cds_pricing(\n",
    "    notional, cds_spread, maturity, recovery_rate, market_rates, time_points, mean_reversion, volatility\n",
    ")\n",
    "\n",
    "#print\n",
    "\n",
    "print(f\"CDS Price: {cds_price:.6f}\")\n",
    "print(f\"Implied Hazard Rate: {hazard_rate:.6%}\")\n"
   ]
  }
 ],
 "metadata": {
  "kernelspec": {
   "display_name": "Python 3 (ipykernel)",
   "language": "python",
   "name": "python3"
  },
  "language_info": {
   "codemirror_mode": {
    "name": "ipython",
    "version": 3
   },
   "file_extension": ".py",
   "mimetype": "text/x-python",
   "name": "python",
   "nbconvert_exporter": "python",
   "pygments_lexer": "ipython3",
   "version": "3.11.6"
  }
 },
 "nbformat": 4,
 "nbformat_minor": 5
}
