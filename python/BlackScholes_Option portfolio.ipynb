{
 "cells": [
  {
   "cell_type": "code",
   "execution_count": 7,
   "id": "db4bd8da",
   "metadata": {},
   "outputs": [],
   "source": [
    "import math\n",
    "import matplotlib.pyplot as plt\n",
    "import numpy as np\n",
    "from scipy.stats import norm\n",
    "import pandas as pd\n"
   ]
  },
  {
   "cell_type": "markdown",
   "id": "d0ad670e",
   "metadata": {},
   "source": [
    "# B-S portfolio_pricer"
   ]
  },
  {
   "cell_type": "code",
   "execution_count": 14,
   "id": "3fcd2c2e",
   "metadata": {},
   "outputs": [
    {
     "name": "stdout",
     "output_type": "stream",
     "text": [
      "Prix total du portefeuille d'options : 10.85\n",
      "Delta total du portefeuille : 0.3345\n",
      "Gamma total du portefeuille : 0.0530\n",
      "Vega total du portefeuille : 105.9493\n",
      "Theta total du portefeuille : -11.6120\n"
     ]
    }
   ],
   "source": [
    "def black_scholes_option_pricer(S, K, T, r, q, sigma, option_type='call'):\n",
    "    d1 = (np.log(S / K) + (r - q + 0.5 * sigma**2) * T) / (sigma * np.sqrt(T))\n",
    "    d2 = d1 - sigma * np.sqrt(T)\n",
    "\n",
    "    if option_type == 'call':\n",
    "        option_price = S * np.exp(-q * T) * norm.cdf(d1) - K * np.exp(-r * T) * norm.cdf(d2)\n",
    "    elif option_type == 'put':\n",
    "        option_price = K * np.exp(-r * T) * norm.cdf(-d2) - S * np.exp(-q * T) * norm.cdf(-d1)\n",
    "    else:\n",
    "        raise ValueError(\"Type d'option non valide. Utilisez 'call' ou 'put'.\")\n",
    "\n",
    "    return option_price\n",
    "\n",
    "def option_greeks(S, K, T, r, q, sigma, option_type):\n",
    "    d1 = (np.log(S / K) + (r - q + 0.5 * sigma**2) * T) / (sigma * np.sqrt(T))\n",
    "    d2 = d1 - sigma * np.sqrt(T)\n",
    "\n",
    "    N_prime_d1 = norm.pdf(d1)\n",
    "\n",
    "    delta = 0\n",
    "    gamma = 0\n",
    "    vega = 0\n",
    "    theta = 0\n",
    "\n",
    "    if option_type == 'call':\n",
    "        delta = norm.cdf(d1)\n",
    "        gamma = N_prime_d1 / (S * sigma * np.sqrt(T))\n",
    "        vega = S * np.sqrt(T) * N_prime_d1\n",
    "        theta = -(S * sigma * N_prime_d1) / (2 * np.sqrt(T)) - r * K * np.exp(-r * T) * norm.cdf(d2)\n",
    "    elif option_type == 'put':\n",
    "        delta = norm.cdf(d1) - 1\n",
    "        gamma = N_prime_d1 / (S * sigma * np.sqrt(T))\n",
    "        vega = S * np.sqrt(T) * N_prime_d1\n",
    "        theta = -(S * sigma * N_prime_d1) / (2 * np.sqrt(T)) + r * K * np.exp(-r * T) * norm.cdf(-d2)\n",
    "\n",
    "    return delta, gamma, vega, theta\n",
    "\n",
    "def portfolio_option_pricer(options):\n",
    "    total_price = 0\n",
    "    total_delta = 0\n",
    "    total_gamma = 0\n",
    "    total_vega = 0\n",
    "    total_theta = 0\n",
    "\n",
    "    for option in options:\n",
    "        option_price = black_scholes_option_pricer(option['S'], option['K'], option['T'],\n",
    "                                                   option['r'], option['q'], option['sigma'], option['type'])\n",
    "        total_price += option_price * option['quantity']\n",
    "\n",
    "        delta, gamma, vega, theta = option_greeks(option['S'], option['K'], option['T'],\n",
    "                                                  option['r'], option['q'], option['sigma'], option['type'])\n",
    "\n",
    "        total_delta += delta * option['quantity']\n",
    "        total_gamma += gamma * option['quantity']\n",
    "        total_vega += vega * option['quantity']\n",
    "        total_theta += theta * option['quantity']\n",
    "\n",
    "    return total_price, total_delta, total_gamma, total_vega, total_theta\n",
    "\n",
    "# Exemple d'utilisation\n",
    "options_portfolio = [\n",
    "    {'S': 100, 'K': 110, 'T': 1, 'r': 0.05, 'q' : 0.07, 'sigma': 0.2, 'type': 'call', 'quantity': 2},\n",
    "    {'S': 100, 'K': 90, 'T': 1, 'r': 0.05, 'q' : 0.07, 'sigma': 0.2, 'type': 'put', 'quantity': 1},\n",
    "    # Ajoutez d'autres options au besoin\n",
    "]\n",
    "\n",
    "total_portfolio_price, total_portfolio_delta, total_portfolio_gamma, total_portfolio_vega, total_portfolio_theta = portfolio_option_pricer(options_portfolio)\n",
    "\n",
    "print(f\"Prix total du portefeuille d'options : {total_portfolio_price:.2f}\")\n",
    "print(f\"Delta total du portefeuille : {total_portfolio_delta:.4f}\")\n",
    "print(f\"Gamma total du portefeuille : {total_portfolio_gamma:.4f}\")\n",
    "print(f\"Vega total du portefeuille : {total_portfolio_vega:.4f}\")\n",
    "print(f\"Theta total du portefeuille : {total_portfolio_theta:.4f}\")"
   ]
  }
 ],
 "metadata": {
  "kernelspec": {
   "display_name": "Python 3 (ipykernel)",
   "language": "python",
   "name": "python3"
  },
  "language_info": {
   "codemirror_mode": {
    "name": "ipython",
    "version": 3
   },
   "file_extension": ".py",
   "mimetype": "text/x-python",
   "name": "python",
   "nbconvert_exporter": "python",
   "pygments_lexer": "ipython3",
   "version": "3.11.6"
  }
 },
 "nbformat": 4,
 "nbformat_minor": 5
}
